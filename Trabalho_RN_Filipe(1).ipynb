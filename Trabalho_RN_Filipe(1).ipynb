{
  "cells": [
    {
      "cell_type": "markdown",
      "metadata": {
        "id": "tdNfxpRMlrLc"
      },
      "source": [
        "# **Trabalho de RN**\n",
        "\n",
        "---\n",
        "\n",
        "\n",
        "\n",
        "\n",
        "**Aluno:** Filipe Faria Rodrigues\n",
        "\n",
        "**Matrícula:** 211101222\n",
        "\n",
        "---\n",
        "\n"
      ]
    },
    {
      "cell_type": "markdown",
      "metadata": {
        "id": "2P4DXcpBlzhu"
      },
      "source": [
        "**1. Transfer Learning em imagens**"
      ]
    },
    {
      "cell_type": "markdown",
      "metadata": {
        "id": "xMq-3Ebul4S8"
      },
      "source": [
        "O *transfer learnig* consiste na utilização do aprendizado de um modelo treinado para a resolução de determinado problema, de forma que possa ser aplicado na resolução de um novo problema.\n",
        "\n",
        "Com isso, tem-se as vantagens de otimização no tempo de treinamento para esse modelo, bem como a utilização de um menor *dataset* para o treinamento deste.\n",
        "\n",
        "Em se tratando de imagens, tal vantagem se mostra significante, já que o conjunte de dados de teste com imagens se torna extremamente grande, tanto em relação à quantidade dados, bem como o custo para a obtenção destas."
      ]
    },
    {
      "cell_type": "markdown",
      "metadata": {
        "id": "W66NY9MvnvOE"
      },
      "source": [
        "**2. Executando do código inicial**"
      ]
    },
    {
      "cell_type": "markdown",
      "metadata": {
        "id": "WWW06K5vo-gp"
      },
      "source": [
        "### Setup"
      ]
    },
    {
      "cell_type": "code",
      "execution_count": 1,
      "metadata": {
        "id": "bdJWEcPZo-gq"
      },
      "outputs": [],
      "source": [
        "import numpy as np\n",
        "from tensorflow import keras\n",
        "from tensorflow.keras import layers\n",
        "import matplotlib.pyplot as plt"
      ]
    },
    {
      "cell_type": "markdown",
      "metadata": {
        "id": "oQVX9L1No-gt"
      },
      "source": [
        "### Prepare the data"
      ]
    },
    {
      "cell_type": "code",
      "execution_count": 2,
      "metadata": {
        "colab": {
          "base_uri": "https://localhost:8080/"
        },
        "id": "dXbB_b-ko-gt",
        "outputId": "6571979f-a280-4798-b46b-3c8297454e70"
      },
      "outputs": [
        {
          "output_type": "stream",
          "name": "stdout",
          "text": [
            "Downloading data from https://storage.googleapis.com/tensorflow/tf-keras-datasets/mnist.npz\n",
            "11493376/11490434 [==============================] - 0s 0us/step\n",
            "11501568/11490434 [==============================] - 0s 0us/step\n",
            "x_train shape: (60000, 28, 28, 1)\n",
            "60000 train samples\n",
            "10000 test samples\n"
          ]
        }
      ],
      "source": [
        "# Model / data parameters\n",
        "num_classes = 10\n",
        "input_shape = (28, 28, 1)\n",
        "\n",
        "# the data, split between train and test sets\n",
        "(x_train, y_train), (x_test, y_test) = keras.datasets.mnist.load_data()\n",
        "\n",
        "# Scale images to the [0, 1] range\n",
        "x_train = x_train.astype(\"float32\") / 255\n",
        "x_test = x_test.astype(\"float32\") / 255\n",
        "# Make sure images have shape (28, 28, 1)\n",
        "x_train = np.expand_dims(x_train, -1)\n",
        "x_test = np.expand_dims(x_test, -1)\n",
        "print(\"x_train shape:\", x_train.shape)\n",
        "print(x_train.shape[0], \"train samples\")\n",
        "print(x_test.shape[0], \"test samples\")\n",
        "\n",
        "\n",
        "# convert class vectors to binary class matrices\n",
        "y_train = keras.utils.to_categorical(y_train, num_classes)\n",
        "y_test = keras.utils.to_categorical(y_test, num_classes)"
      ]
    },
    {
      "cell_type": "code",
      "execution_count": 3,
      "metadata": {
        "colab": {
          "base_uri": "https://localhost:8080/",
          "height": 283
        },
        "id": "voZsc_GGqvao",
        "outputId": "4909cee7-ee83-429f-bf0a-5a38453f9196"
      },
      "outputs": [
        {
          "output_type": "execute_result",
          "data": {
            "text/plain": [
              "<matplotlib.image.AxesImage at 0x7fe936032f50>"
            ]
          },
          "metadata": {},
          "execution_count": 3
        },
        {
          "output_type": "display_data",
          "data": {
            "text/plain": [
              "<Figure size 432x288 with 1 Axes>"
            ],
            "image/png": "[encoded data removed]"
          },
          "metadata": {
            "needs_background": "light"
          }
        }
      ],
      "source": [
        "#access first image\n",
        "first_image = x_train[7]\n",
        "\n",
        "first_image = np.array(first_image)\n",
        "pixels = first_image.reshape((28, 28))\n",
        "plt.imshow(pixels)"
      ]
    },
    {
      "cell_type": "markdown",
      "metadata": {
        "id": "MiXX9Irfo-gu"
      },
      "source": [
        "### Build the model"
      ]
    },
    {
      "cell_type": "code",
      "execution_count": 4,
      "metadata": {
        "colab": {
          "base_uri": "https://localhost:8080/"
        },
        "id": "seGuX4YZo-gu",
        "outputId": "88452e8b-e23d-4888-e21c-2ab9060ea140"
      },
      "outputs": [
        {
          "output_type": "stream",
          "name": "stdout",
          "text": [
            "Model: \"sequential\"\n",
            "_________________________________________________________________\n",
            " Layer (type)                Output Shape              Param #   \n",
            "=================================================================\n",
            " conv2d (Conv2D)             (None, 26, 26, 32)        320       \n",
            "                                                                 \n",
            " max_pooling2d (MaxPooling2D  (None, 13, 13, 32)       0         \n",
            " )                                                               \n",
            "                                                                 \n",
            " conv2d_1 (Conv2D)           (None, 11, 11, 64)        18496     \n",
            "                                                                 \n",
            " max_pooling2d_1 (MaxPooling  (None, 5, 5, 64)         0         \n",
            " 2D)                                                             \n",
            "                                                                 \n",
            " flatten (Flatten)           (None, 1600)              0         \n",
            "                                                                 \n",
            " dropout (Dropout)           (None, 1600)              0         \n",
            "                                                                 \n",
            " dense (Dense)               (None, 10)                16010     \n",
            "                                                                 \n",
            "=================================================================\n",
            "Total params: 34,826\n",
            "Trainable params: 34,826\n",
            "Non-trainable params: 0\n",
            "_________________________________________________________________\n"
          ]
        }
      ],
      "source": [
        "model = keras.Sequential(\n",
        "    [\n",
        "        keras.Input(shape=input_shape),\n",
        "        layers.Conv2D(32, kernel_size=(3, 3), activation=\"relu\"),\n",
        "        layers.MaxPooling2D(pool_size=(2, 2)),\n",
        "        layers.Conv2D(64, kernel_size=(3, 3), activation=\"relu\"),\n",
        "        layers.MaxPooling2D(pool_size=(2, 2)),\n",
        "        layers.Flatten(),\n",
        "        layers.Dropout(0.5),\n",
        "        layers.Dense(num_classes, activation=\"softmax\"),\n",
        "    ]\n",
        ")\n",
        "\n",
        "model.summary()"
      ]
    },
    {
      "cell_type": "markdown",
      "metadata": {
        "id": "PerEtEXjo-gv"
      },
      "source": [
        "### Train the model"
      ]
    },
    {
      "cell_type": "code",
      "execution_count": 5,
      "metadata": {
        "colab": {
          "base_uri": "https://localhost:8080/"
        },
        "id": "hu8Ia_Eco-gw",
        "outputId": "c359ef0e-8318-40a4-e97f-37116a6cd375"
      },
      "outputs": [
        {
          "output_type": "stream",
          "name": "stdout",
          "text": [
            "Epoch 1/15\n",
            "422/422 [==============================] - 43s 99ms/step - loss: 0.3728 - accuracy: 0.8856 - val_loss: 0.0853 - val_accuracy: 0.9780\n",
            "Epoch 2/15\n",
            "422/422 [==============================] - 42s 101ms/step - loss: 0.1190 - accuracy: 0.9648 - val_loss: 0.0606 - val_accuracy: 0.9840\n",
            "Epoch 3/15\n",
            "422/422 [==============================] - 40s 96ms/step - loss: 0.0899 - accuracy: 0.9722 - val_loss: 0.0485 - val_accuracy: 0.9863\n",
            "Epoch 4/15\n",
            "422/422 [==============================] - 41s 96ms/step - loss: 0.0754 - accuracy: 0.9769 - val_loss: 0.0432 - val_accuracy: 0.9865\n",
            "Epoch 5/15\n",
            "422/422 [==============================] - 41s 98ms/step - loss: 0.0658 - accuracy: 0.9802 - val_loss: 0.0407 - val_accuracy: 0.9885\n",
            "Epoch 6/15\n",
            "422/422 [==============================] - 41s 97ms/step - loss: 0.0583 - accuracy: 0.9815 - val_loss: 0.0359 - val_accuracy: 0.9880\n",
            "Epoch 7/15\n",
            "422/422 [==============================] - 42s 99ms/step - loss: 0.0530 - accuracy: 0.9835 - val_loss: 0.0349 - val_accuracy: 0.9903\n",
            "Epoch 8/15\n",
            "422/422 [==============================] - 40s 96ms/step - loss: 0.0499 - accuracy: 0.9847 - val_loss: 0.0326 - val_accuracy: 0.9902\n",
            "Epoch 9/15\n",
            "422/422 [==============================] - 41s 98ms/step - loss: 0.0460 - accuracy: 0.9851 - val_loss: 0.0308 - val_accuracy: 0.9902\n",
            "Epoch 10/15\n",
            "422/422 [==============================] - 41s 96ms/step - loss: 0.0437 - accuracy: 0.9863 - val_loss: 0.0343 - val_accuracy: 0.9878\n",
            "Epoch 11/15\n",
            "422/422 [==============================] - 42s 99ms/step - loss: 0.0421 - accuracy: 0.9870 - val_loss: 0.0286 - val_accuracy: 0.9922\n",
            "Epoch 12/15\n",
            "422/422 [==============================] - 41s 96ms/step - loss: 0.0404 - accuracy: 0.9871 - val_loss: 0.0302 - val_accuracy: 0.9917\n",
            "Epoch 13/15\n",
            "422/422 [==============================] - 41s 98ms/step - loss: 0.0373 - accuracy: 0.9884 - val_loss: 0.0301 - val_accuracy: 0.9920\n",
            "Epoch 14/15\n",
            "422/422 [==============================] - 41s 97ms/step - loss: 0.0356 - accuracy: 0.9883 - val_loss: 0.0292 - val_accuracy: 0.9920\n",
            "Epoch 15/15\n",
            "422/422 [==============================] - 42s 100ms/step - loss: 0.0346 - accuracy: 0.9890 - val_loss: 0.0289 - val_accuracy: 0.9925\n"
          ]
        },
        {
          "output_type": "execute_result",
          "data": {
            "text/plain": [
              "<keras.callbacks.History at 0x7fe935fb2dd0>"
            ]
          },
          "metadata": {},
          "execution_count": 5
        }
      ],
      "source": [
        "batch_size = 128\n",
        "epochs = 15\n",
        "\n",
        "model.compile(loss=\"categorical_crossentropy\", optimizer=\"adam\", metrics=[\"accuracy\"])\n",
        "\n",
        "model.fit(x_train, y_train, batch_size=batch_size, epochs=epochs, validation_split=0.1)"
      ]
    },
    {
      "cell_type": "markdown",
      "metadata": {
        "id": "YFMoJmKfo-gx"
      },
      "source": [
        "### Evaluate the trained model"
      ]
    },
    {
      "cell_type": "code",
      "execution_count": 6,
      "metadata": {
        "colab": {
          "base_uri": "https://localhost:8080/"
        },
        "id": "56Z7iT7mo-gx",
        "outputId": "53f4f441-17ca-42c3-c731-0546530a63b6"
      },
      "outputs": [
        {
          "output_type": "stream",
          "name": "stdout",
          "text": [
            "Test loss: 0.02501138113439083\n",
            "Test accuracy: 0.9914000034332275\n"
          ]
        }
      ],
      "source": [
        "score = model.evaluate(x_test, y_test, verbose=0)\n",
        "print(\"Test loss:\", score[0])\n",
        "print(\"Test accuracy:\", score[1])"
      ]
    },
    {
      "cell_type": "markdown",
      "metadata": {
        "id": "rpXTd9IYu6x4"
      },
      "source": [
        "**3. Alterando o otimizador para sgd**"
      ]
    },
    {
      "cell_type": "code",
      "execution_count": 7,
      "metadata": {
        "colab": {
          "base_uri": "https://localhost:8080/"
        },
        "id": "oetB4Di8vsFt",
        "outputId": "2fbc72f7-2e91-427a-9118-ca600d63f5bc"
      },
      "outputs": [
        {
          "output_type": "stream",
          "name": "stdout",
          "text": [
            "Model: \"sequential_1\"\n",
            "_________________________________________________________________\n",
            " Layer (type)                Output Shape              Param #   \n",
            "=================================================================\n",
            " conv2d_2 (Conv2D)           (None, 26, 26, 32)        320       \n",
            "                                                                 \n",
            " max_pooling2d_2 (MaxPooling  (None, 13, 13, 32)       0         \n",
            " 2D)                                                             \n",
            "                                                                 \n",
            " conv2d_3 (Conv2D)           (None, 11, 11, 64)        18496     \n",
            "                                                                 \n",
            " max_pooling2d_3 (MaxPooling  (None, 5, 5, 64)         0         \n",
            " 2D)                                                             \n",
            "                                                                 \n",
            " flatten_1 (Flatten)         (None, 1600)              0         \n",
            "                                                                 \n",
            " dropout_1 (Dropout)         (None, 1600)              0         \n",
            "                                                                 \n",
            " dense_1 (Dense)             (None, 10)                16010     \n",
            "                                                                 \n",
            "=================================================================\n",
            "Total params: 34,826\n",
            "Trainable params: 34,826\n",
            "Non-trainable params: 0\n",
            "_________________________________________________________________\n"
          ]
        }
      ],
      "source": [
        "model_a = keras.Sequential(\n",
        "    [\n",
        "        keras.Input(shape=input_shape),\n",
        "        layers.Conv2D(32, kernel_size=(3, 3), activation=\"relu\"),\n",
        "        layers.MaxPooling2D(pool_size=(2, 2)),\n",
        "        layers.Conv2D(64, kernel_size=(3, 3), activation=\"relu\"),\n",
        "        layers.MaxPooling2D(pool_size=(2, 2)),\n",
        "        layers.Flatten(),\n",
        "        layers.Dropout(0.5),\n",
        "        layers.Dense(num_classes, activation=\"softmax\"),\n",
        "    ]\n",
        ")\n",
        "\n",
        "model_a.summary()"
      ]
    },
    {
      "cell_type": "code",
      "execution_count": 8,
      "metadata": {
        "colab": {
          "base_uri": "https://localhost:8080/"
        },
        "id": "WuMwJyHwvHPn",
        "outputId": "2c8cec8d-c485-4c26-ab0e-5cdc1f4689fe"
      },
      "outputs": [
        {
          "output_type": "stream",
          "name": "stdout",
          "text": [
            "Epoch 1/15\n",
            "422/422 [==============================] - 43s 101ms/step - loss: 1.5718 - accuracy: 0.4947 - val_loss: 0.5036 - val_accuracy: 0.8783\n",
            "Epoch 2/15\n",
            "422/422 [==============================] - 43s 101ms/step - loss: 0.5788 - accuracy: 0.8178 - val_loss: 0.2737 - val_accuracy: 0.9318\n",
            "Epoch 3/15\n",
            "422/422 [==============================] - 43s 103ms/step - loss: 0.3945 - accuracy: 0.8813 - val_loss: 0.2054 - val_accuracy: 0.9448\n",
            "Epoch 4/15\n",
            "422/422 [==============================] - 41s 97ms/step - loss: 0.3112 - accuracy: 0.9062 - val_loss: 0.1689 - val_accuracy: 0.9552\n",
            "Epoch 5/15\n",
            "422/422 [==============================] - 43s 101ms/step - loss: 0.2620 - accuracy: 0.9212 - val_loss: 0.1489 - val_accuracy: 0.9602\n",
            "Epoch 6/15\n",
            "422/422 [==============================] - 41s 98ms/step - loss: 0.2311 - accuracy: 0.9309 - val_loss: 0.1311 - val_accuracy: 0.9635\n",
            "Epoch 7/15\n",
            "422/422 [==============================] - 43s 102ms/step - loss: 0.2104 - accuracy: 0.9366 - val_loss: 0.1200 - val_accuracy: 0.9677\n",
            "Epoch 8/15\n",
            "422/422 [==============================] - 41s 98ms/step - loss: 0.1953 - accuracy: 0.9413 - val_loss: 0.1111 - val_accuracy: 0.9700\n",
            "Epoch 9/15\n",
            "422/422 [==============================] - 42s 100ms/step - loss: 0.1826 - accuracy: 0.9456 - val_loss: 0.1043 - val_accuracy: 0.9717\n",
            "Epoch 10/15\n",
            "422/422 [==============================] - 41s 98ms/step - loss: 0.1699 - accuracy: 0.9488 - val_loss: 0.0999 - val_accuracy: 0.9738\n",
            "Epoch 11/15\n",
            "422/422 [==============================] - 43s 101ms/step - loss: 0.1632 - accuracy: 0.9506 - val_loss: 0.0949 - val_accuracy: 0.9753\n",
            "Epoch 12/15\n",
            "422/422 [==============================] - 41s 98ms/step - loss: 0.1554 - accuracy: 0.9534 - val_loss: 0.0906 - val_accuracy: 0.9768\n",
            "Epoch 13/15\n",
            "422/422 [==============================] - 43s 101ms/step - loss: 0.1493 - accuracy: 0.9557 - val_loss: 0.0865 - val_accuracy: 0.9770\n",
            "Epoch 14/15\n",
            "422/422 [==============================] - 41s 98ms/step - loss: 0.1453 - accuracy: 0.9565 - val_loss: 0.0849 - val_accuracy: 0.9770\n",
            "Epoch 15/15\n",
            "422/422 [==============================] - 43s 101ms/step - loss: 0.1410 - accuracy: 0.9582 - val_loss: 0.0825 - val_accuracy: 0.9780\n"
          ]
        },
        {
          "output_type": "execute_result",
          "data": {
            "text/plain": [
              "<keras.callbacks.History at 0x7fe931c59dd0>"
            ]
          },
          "metadata": {},
          "execution_count": 8
        }
      ],
      "source": [
        "batch_size = 128\n",
        "epochs = 15\n",
        "\n",
        "model_a.compile(loss=\"categorical_crossentropy\", optimizer=\"sgd\", metrics=[\"accuracy\"])\n",
        "\n",
        "model_a.fit(x_train, y_train, batch_size=batch_size, epochs=epochs, validation_split=0.1)"
      ]
    },
    {
      "cell_type": "code",
      "execution_count": 9,
      "metadata": {
        "id": "AOXTqMRZvNcU",
        "colab": {
          "base_uri": "https://localhost:8080/"
        },
        "outputId": "00df8dd0-c94d-48f8-bfac-97ceb8fd9697"
      },
      "outputs": [
        {
          "output_type": "stream",
          "name": "stdout",
          "text": [
            "Test loss: 0.08741168677806854\n",
            "Test accuracy: 0.9735999703407288\n"
          ]
        }
      ],
      "source": [
        "score_a = model_a.evaluate(x_test, y_test, verbose=0)\n",
        "print(\"Test loss:\", score_a[0])\n",
        "print(\"Test accuracy:\", score_a[1])"
      ]
    },
    {
      "cell_type": "markdown",
      "source": [
        "**4. Alterando o batch size para 256**"
      ],
      "metadata": {
        "id": "bhMuJU2d2PrF"
      }
    },
    {
      "cell_type": "code",
      "source": [
        "model_b = keras.Sequential(\n",
        "    [\n",
        "        keras.Input(shape=input_shape),\n",
        "        layers.Conv2D(32, kernel_size=(3, 3), activation=\"relu\"),\n",
        "        layers.MaxPooling2D(pool_size=(2, 2)),\n",
        "        layers.Conv2D(64, kernel_size=(3, 3), activation=\"relu\"),\n",
        "        layers.MaxPooling2D(pool_size=(2, 2)),\n",
        "        layers.Flatten(),\n",
        "        layers.Dropout(0.5),\n",
        "        layers.Dense(num_classes, activation=\"softmax\"),\n",
        "    ]\n",
        ")\n",
        "\n",
        "model_b.summary()"
      ],
      "metadata": {
        "colab": {
          "base_uri": "https://localhost:8080/"
        },
        "id": "a-jFamF-2ZqE",
        "outputId": "8074cf31-c726-48b8-a807-9bfd2ce5d9a5"
      },
      "execution_count": 10,
      "outputs": [
        {
          "output_type": "stream",
          "name": "stdout",
          "text": [
            "Model: \"sequential_2\"\n",
            "_________________________________________________________________\n",
            " Layer (type)                Output Shape              Param #   \n",
            "=================================================================\n",
            " conv2d_4 (Conv2D)           (None, 26, 26, 32)        320       \n",
            "                                                                 \n",
            " max_pooling2d_4 (MaxPooling  (None, 13, 13, 32)       0         \n",
            " 2D)                                                             \n",
            "                                                                 \n",
            " conv2d_5 (Conv2D)           (None, 11, 11, 64)        18496     \n",
            "                                                                 \n",
            " max_pooling2d_5 (MaxPooling  (None, 5, 5, 64)         0         \n",
            " 2D)                                                             \n",
            "                                                                 \n",
            " flatten_2 (Flatten)         (None, 1600)              0         \n",
            "                                                                 \n",
            " dropout_2 (Dropout)         (None, 1600)              0         \n",
            "                                                                 \n",
            " dense_2 (Dense)             (None, 10)                16010     \n",
            "                                                                 \n",
            "=================================================================\n",
            "Total params: 34,826\n",
            "Trainable params: 34,826\n",
            "Non-trainable params: 0\n",
            "_________________________________________________________________\n"
          ]
        }
      ]
    },
    {
      "cell_type": "code",
      "source": [
        "batch_size = 256\n",
        "epochs = 15\n",
        "\n",
        "model_b.compile(loss=\"categorical_crossentropy\", optimizer=\"adam\", metrics=[\"accuracy\"])\n",
        "\n",
        "model_b.fit(x_train, y_train, batch_size=batch_size, epochs=epochs, validation_split=0.1)"
      ],
      "metadata": {
        "colab": {
          "base_uri": "https://localhost:8080/"
        },
        "id": "3bp9rQBu2dk9",
        "outputId": "25fbb1e7-7082-4569-8b5f-9761dfb39246"
      },
      "execution_count": 11,
      "outputs": [
        {
          "output_type": "stream",
          "name": "stdout",
          "text": [
            "Epoch 1/15\n",
            "211/211 [==============================] - 40s 188ms/step - loss: 0.5067 - accuracy: 0.8496 - val_loss: 0.1028 - val_accuracy: 0.9717\n",
            "Epoch 2/15\n",
            "211/211 [==============================] - 41s 193ms/step - loss: 0.1344 - accuracy: 0.9596 - val_loss: 0.0657 - val_accuracy: 0.9827\n",
            "Epoch 3/15\n",
            "211/211 [==============================] - 39s 187ms/step - loss: 0.0964 - accuracy: 0.9706 - val_loss: 0.0582 - val_accuracy: 0.9850\n",
            "Epoch 4/15\n",
            "211/211 [==============================] - 40s 191ms/step - loss: 0.0807 - accuracy: 0.9748 - val_loss: 0.0504 - val_accuracy: 0.9862\n",
            "Epoch 5/15\n",
            "211/211 [==============================] - 39s 185ms/step - loss: 0.0686 - accuracy: 0.9781 - val_loss: 0.0430 - val_accuracy: 0.9882\n",
            "Epoch 6/15\n",
            "211/211 [==============================] - 40s 190ms/step - loss: 0.0613 - accuracy: 0.9808 - val_loss: 0.0404 - val_accuracy: 0.9887\n",
            "Epoch 7/15\n",
            "211/211 [==============================] - 39s 186ms/step - loss: 0.0564 - accuracy: 0.9821 - val_loss: 0.0371 - val_accuracy: 0.9898\n",
            "Epoch 8/15\n",
            "211/211 [==============================] - 40s 189ms/step - loss: 0.0517 - accuracy: 0.9841 - val_loss: 0.0370 - val_accuracy: 0.9885\n",
            "Epoch 9/15\n",
            "211/211 [==============================] - 39s 186ms/step - loss: 0.0489 - accuracy: 0.9846 - val_loss: 0.0347 - val_accuracy: 0.9913\n",
            "Epoch 10/15\n",
            "211/211 [==============================] - 40s 189ms/step - loss: 0.0461 - accuracy: 0.9856 - val_loss: 0.0316 - val_accuracy: 0.9917\n",
            "Epoch 11/15\n",
            "211/211 [==============================] - 39s 186ms/step - loss: 0.0452 - accuracy: 0.9858 - val_loss: 0.0315 - val_accuracy: 0.9912\n",
            "Epoch 12/15\n",
            "211/211 [==============================] - 39s 184ms/step - loss: 0.0415 - accuracy: 0.9870 - val_loss: 0.0316 - val_accuracy: 0.9913\n",
            "Epoch 13/15\n",
            "211/211 [==============================] - 41s 192ms/step - loss: 0.0398 - accuracy: 0.9878 - val_loss: 0.0331 - val_accuracy: 0.9910\n",
            "Epoch 14/15\n",
            "211/211 [==============================] - 39s 185ms/step - loss: 0.0379 - accuracy: 0.9882 - val_loss: 0.0304 - val_accuracy: 0.9907\n",
            "Epoch 15/15\n",
            "211/211 [==============================] - 40s 189ms/step - loss: 0.0377 - accuracy: 0.9881 - val_loss: 0.0292 - val_accuracy: 0.9922\n"
          ]
        },
        {
          "output_type": "execute_result",
          "data": {
            "text/plain": [
              "<keras.callbacks.History at 0x7fe931ac7350>"
            ]
          },
          "metadata": {},
          "execution_count": 11
        }
      ]
    },
    {
      "cell_type": "code",
      "source": [
        "score_b = model_b.evaluate(x_test, y_test, verbose=0)\n",
        "print(\"Test loss:\", score_b[0])\n",
        "print(\"Test accuracy:\", score_b[1])"
      ],
      "metadata": {
        "id": "yt0Rp5cA2jR_",
        "colab": {
          "base_uri": "https://localhost:8080/"
        },
        "outputId": "2e2e9fe7-64bf-4d47-c69e-29dec1ec463c"
      },
      "execution_count": 12,
      "outputs": [
        {
          "output_type": "stream",
          "name": "stdout",
          "text": [
            "Test loss: 0.026022937148809433\n",
            "Test accuracy: 0.9902999997138977\n"
          ]
        }
      ]
    },
    {
      "cell_type": "markdown",
      "source": [
        "**5. Alterando o drop out para 0.2**"
      ],
      "metadata": {
        "id": "nRx17vyn5M8p"
      }
    },
    {
      "cell_type": "code",
      "source": [
        "model_c = keras.Sequential(\n",
        "    [\n",
        "        keras.Input(shape=input_shape),\n",
        "        layers.Conv2D(32, kernel_size=(3, 3), activation=\"relu\"),\n",
        "        layers.MaxPooling2D(pool_size=(2, 2)),\n",
        "        layers.Conv2D(64, kernel_size=(3, 3), activation=\"relu\"),\n",
        "        layers.MaxPooling2D(pool_size=(2, 2)),\n",
        "        layers.Flatten(),\n",
        "        layers.Dropout(0.2),\n",
        "        layers.Dense(num_classes, activation=\"softmax\"),\n",
        "    ]\n",
        ")\n",
        "\n",
        "model_c.summary()"
      ],
      "metadata": {
        "colab": {
          "base_uri": "https://localhost:8080/"
        },
        "id": "bmSYcZ-g5RBD",
        "outputId": "39d5ae67-3a5a-473e-d778-f8e4cfc82377"
      },
      "execution_count": 13,
      "outputs": [
        {
          "output_type": "stream",
          "name": "stdout",
          "text": [
            "Model: \"sequential_3\"\n",
            "_________________________________________________________________\n",
            " Layer (type)                Output Shape              Param #   \n",
            "=================================================================\n",
            " conv2d_6 (Conv2D)           (None, 26, 26, 32)        320       \n",
            "                                                                 \n",
            " max_pooling2d_6 (MaxPooling  (None, 13, 13, 32)       0         \n",
            " 2D)                                                             \n",
            "                                                                 \n",
            " conv2d_7 (Conv2D)           (None, 11, 11, 64)        18496     \n",
            "                                                                 \n",
            " max_pooling2d_7 (MaxPooling  (None, 5, 5, 64)         0         \n",
            " 2D)                                                             \n",
            "                                                                 \n",
            " flatten_3 (Flatten)         (None, 1600)              0         \n",
            "                                                                 \n",
            " dropout_3 (Dropout)         (None, 1600)              0         \n",
            "                                                                 \n",
            " dense_3 (Dense)             (None, 10)                16010     \n",
            "                                                                 \n",
            "=================================================================\n",
            "Total params: 34,826\n",
            "Trainable params: 34,826\n",
            "Non-trainable params: 0\n",
            "_________________________________________________________________\n"
          ]
        }
      ]
    },
    {
      "cell_type": "code",
      "source": [
        "batch_size = 128\n",
        "epochs = 15\n",
        "\n",
        "model_c.compile(loss=\"categorical_crossentropy\", optimizer=\"adam\", metrics=[\"accuracy\"])\n",
        "\n",
        "model_c.fit(x_train, y_train, batch_size=batch_size, epochs=epochs, validation_split=0.1)"
      ],
      "metadata": {
        "colab": {
          "base_uri": "https://localhost:8080/"
        },
        "id": "U_TixuF45chJ",
        "outputId": "c320de5e-b305-4a81-db16-a6c9d9a4e4fd"
      },
      "execution_count": 14,
      "outputs": [
        {
          "output_type": "stream",
          "name": "stdout",
          "text": [
            "Epoch 1/15\n",
            "422/422 [==============================] - 44s 102ms/step - loss: 0.3066 - accuracy: 0.9115 - val_loss: 0.0758 - val_accuracy: 0.9788\n",
            "Epoch 2/15\n",
            "422/422 [==============================] - 44s 103ms/step - loss: 0.0853 - accuracy: 0.9739 - val_loss: 0.0602 - val_accuracy: 0.9838\n",
            "Epoch 3/15\n",
            "422/422 [==============================] - 43s 101ms/step - loss: 0.0642 - accuracy: 0.9807 - val_loss: 0.0454 - val_accuracy: 0.9875\n",
            "Epoch 4/15\n",
            "422/422 [==============================] - 45s 106ms/step - loss: 0.0519 - accuracy: 0.9842 - val_loss: 0.0410 - val_accuracy: 0.9902\n",
            "Epoch 5/15\n",
            "422/422 [==============================] - 43s 103ms/step - loss: 0.0452 - accuracy: 0.9856 - val_loss: 0.0377 - val_accuracy: 0.9880\n",
            "Epoch 6/15\n",
            "422/422 [==============================] - 44s 104ms/step - loss: 0.0402 - accuracy: 0.9874 - val_loss: 0.0355 - val_accuracy: 0.9907\n",
            "Epoch 7/15\n",
            "422/422 [==============================] - 44s 103ms/step - loss: 0.0351 - accuracy: 0.9888 - val_loss: 0.0361 - val_accuracy: 0.9898\n",
            "Epoch 8/15\n",
            "422/422 [==============================] - 42s 100ms/step - loss: 0.0323 - accuracy: 0.9898 - val_loss: 0.0305 - val_accuracy: 0.9920\n",
            "Epoch 9/15\n",
            "422/422 [==============================] - 42s 100ms/step - loss: 0.0280 - accuracy: 0.9912 - val_loss: 0.0316 - val_accuracy: 0.9907\n",
            "Epoch 10/15\n",
            "422/422 [==============================] - 41s 96ms/step - loss: 0.0265 - accuracy: 0.9913 - val_loss: 0.0323 - val_accuracy: 0.9902\n",
            "Epoch 11/15\n",
            "422/422 [==============================] - 42s 100ms/step - loss: 0.0244 - accuracy: 0.9919 - val_loss: 0.0318 - val_accuracy: 0.9918\n",
            "Epoch 12/15\n",
            "422/422 [==============================] - 41s 96ms/step - loss: 0.0222 - accuracy: 0.9926 - val_loss: 0.0331 - val_accuracy: 0.9908\n",
            "Epoch 13/15\n",
            "422/422 [==============================] - 43s 102ms/step - loss: 0.0197 - accuracy: 0.9935 - val_loss: 0.0386 - val_accuracy: 0.9908\n",
            "Epoch 14/15\n",
            "422/422 [==============================] - 42s 101ms/step - loss: 0.0176 - accuracy: 0.9941 - val_loss: 0.0365 - val_accuracy: 0.9903\n",
            "Epoch 15/15\n",
            "422/422 [==============================] - 43s 103ms/step - loss: 0.0175 - accuracy: 0.9939 - val_loss: 0.0347 - val_accuracy: 0.9910\n"
          ]
        },
        {
          "output_type": "execute_result",
          "data": {
            "text/plain": [
              "<keras.callbacks.History at 0x7fe931a6ea90>"
            ]
          },
          "metadata": {},
          "execution_count": 14
        }
      ]
    },
    {
      "cell_type": "code",
      "source": [
        "score_c = model_c.evaluate(x_test, y_test, verbose=0)\n",
        "print(\"Test loss:\", score_c[0])\n",
        "print(\"Test accuracy:\", score_c[1])"
      ],
      "metadata": {
        "colab": {
          "base_uri": "https://localhost:8080/"
        },
        "id": "CgBlHKWx5pzW",
        "outputId": "85356384-ce8d-411b-9851-0457ccd7ad9f"
      },
      "execution_count": 15,
      "outputs": [
        {
          "output_type": "stream",
          "name": "stdout",
          "text": [
            "Test loss: 0.029407529160380363\n",
            "Test accuracy: 0.991599977016449\n"
          ]
        }
      ]
    },
    {
      "cell_type": "markdown",
      "source": [
        "**6. Conclusões**"
      ],
      "metadata": {
        "id": "bgkyelCy8POz"
      }
    },
    {
      "cell_type": "markdown",
      "source": [
        "Segue abaixo um quadro com o resumo dos resultados obtidos para os modelos propostos.\n",
        "\n",
        "```\n",
        "                                    Loss          Accuracy\n",
        "Modelo Inicial (adam)               0.025011      0.99140\n",
        "Modelo a (sgd)                      0.087412      0.97359\n",
        "Modelo b (adam - batch size 256)    0.026022      0.99029\n",
        "Modelo c (adam - drop out 0.2)      0.029407      0.99159\n",
        "```\n",
        "Seguem algumas considerações:\n",
        "- o modelo com otimizador adam apresentou resultados mais satisfatórios quando comparados com o modelo com o otimizador sgd (maior acurácia e menor perda);\n",
        "- quando comparados os modelos com otimiador adam, a alteração do batch size de 128 para 256 não apresentou melhoras no resultado obtido, apesar de reduzir um pouco a perda, aumentando também o tempo para treinamento do modelo;\n",
        "- o mesmo modelo com o otimizador adam, batch size 128, apresentou pequena melhora quando alterado o drop out de 0.5 para 0.2.\n"
      ],
      "metadata": {
        "id": "Efkc-PMf96E0"
      }
    },
    {
      "cell_type": "markdown",
      "source": [
        "**8. Modelo Proposto**"
      ],
      "metadata": {
        "id": "kRT4gfQY04fR"
      }
    },
    {
      "cell_type": "markdown",
      "source": [
        "Considerando os resultados obtidos nos modelos acima, vamos utilizado o otimizador adam, com batch size 128, drop out 0.2, porém com 10 épocas."
      ],
      "metadata": {
        "id": "alWn1LuS1jmd"
      }
    },
    {
      "cell_type": "code",
      "source": [
        "model_final = keras.Sequential(\n",
        "    [\n",
        "        keras.Input(shape=input_shape),\n",
        "        layers.Conv2D(32, kernel_size=(3, 3), activation=\"relu\"),\n",
        "        layers.MaxPooling2D(pool_size=(2, 2)),\n",
        "        layers.Conv2D(64, kernel_size=(3, 3), activation=\"relu\"),\n",
        "        layers.MaxPooling2D(pool_size=(2, 2)),\n",
        "        layers.Flatten(),\n",
        "        layers.Dropout(0.2),\n",
        "        layers.Dense(num_classes, activation=\"softmax\"),\n",
        "    ]\n",
        ")\n",
        "\n",
        "model_final.summary()"
      ],
      "metadata": {
        "colab": {
          "base_uri": "https://localhost:8080/"
        },
        "id": "MkkdPYNI1LA8",
        "outputId": "d675379b-b07b-4233-cd04-78002d15d4e4"
      },
      "execution_count": 19,
      "outputs": [
        {
          "output_type": "stream",
          "name": "stdout",
          "text": [
            "Model: \"sequential_4\"\n",
            "_________________________________________________________________\n",
            " Layer (type)                Output Shape              Param #   \n",
            "=================================================================\n",
            " conv2d_8 (Conv2D)           (None, 26, 26, 32)        320       \n",
            "                                                                 \n",
            " max_pooling2d_8 (MaxPooling  (None, 13, 13, 32)       0         \n",
            " 2D)                                                             \n",
            "                                                                 \n",
            " conv2d_9 (Conv2D)           (None, 11, 11, 64)        18496     \n",
            "                                                                 \n",
            " max_pooling2d_9 (MaxPooling  (None, 5, 5, 64)         0         \n",
            " 2D)                                                             \n",
            "                                                                 \n",
            " flatten_4 (Flatten)         (None, 1600)              0         \n",
            "                                                                 \n",
            " dropout_4 (Dropout)         (None, 1600)              0         \n",
            "                                                                 \n",
            " dense_4 (Dense)             (None, 10)                16010     \n",
            "                                                                 \n",
            "=================================================================\n",
            "Total params: 34,826\n",
            "Trainable params: 34,826\n",
            "Non-trainable params: 0\n",
            "_________________________________________________________________\n"
          ]
        }
      ]
    },
    {
      "cell_type": "code",
      "source": [
        "batch_size = 128\n",
        "epochs = 10\n",
        "\n",
        "model_final.compile(loss=\"categorical_crossentropy\", optimizer=\"adam\", metrics=[\"accuracy\"])\n",
        "\n",
        "model_final.fit(x_train, y_train, batch_size=batch_size, epochs=epochs, validation_split=0.1)"
      ],
      "metadata": {
        "colab": {
          "base_uri": "https://localhost:8080/"
        },
        "id": "5o2LfbWB1RJQ",
        "outputId": "3616fe5c-69aa-4216-8df9-87eb32424b40"
      },
      "execution_count": 20,
      "outputs": [
        {
          "output_type": "stream",
          "name": "stdout",
          "text": [
            "Epoch 1/10\n",
            "422/422 [==============================] - 44s 102ms/step - loss: 0.3164 - accuracy: 0.9091 - val_loss: 0.0814 - val_accuracy: 0.9780\n",
            "Epoch 2/10\n",
            "422/422 [==============================] - 42s 100ms/step - loss: 0.0919 - accuracy: 0.9719 - val_loss: 0.0554 - val_accuracy: 0.9837\n",
            "Epoch 3/10\n",
            "422/422 [==============================] - 42s 101ms/step - loss: 0.0671 - accuracy: 0.9798 - val_loss: 0.0500 - val_accuracy: 0.9837\n",
            "Epoch 4/10\n",
            "422/422 [==============================] - 40s 96ms/step - loss: 0.0566 - accuracy: 0.9823 - val_loss: 0.0398 - val_accuracy: 0.9883\n",
            "Epoch 5/10\n",
            "422/422 [==============================] - 42s 100ms/step - loss: 0.0469 - accuracy: 0.9849 - val_loss: 0.0376 - val_accuracy: 0.9887\n",
            "Epoch 6/10\n",
            "422/422 [==============================] - 42s 99ms/step - loss: 0.0432 - accuracy: 0.9862 - val_loss: 0.0378 - val_accuracy: 0.9895\n",
            "Epoch 7/10\n",
            "422/422 [==============================] - 41s 97ms/step - loss: 0.0377 - accuracy: 0.9879 - val_loss: 0.0345 - val_accuracy: 0.9902\n",
            "Epoch 8/10\n",
            "422/422 [==============================] - 42s 101ms/step - loss: 0.0341 - accuracy: 0.9892 - val_loss: 0.0327 - val_accuracy: 0.9900\n",
            "Epoch 9/10\n",
            "422/422 [==============================] - 42s 99ms/step - loss: 0.0309 - accuracy: 0.9904 - val_loss: 0.0320 - val_accuracy: 0.9912\n",
            "Epoch 10/10\n",
            "422/422 [==============================] - 42s 100ms/step - loss: 0.0274 - accuracy: 0.9917 - val_loss: 0.0345 - val_accuracy: 0.9892\n"
          ]
        },
        {
          "output_type": "execute_result",
          "data": {
            "text/plain": [
              "<keras.callbacks.History at 0x7fe9314e67d0>"
            ]
          },
          "metadata": {},
          "execution_count": 20
        }
      ]
    },
    {
      "cell_type": "code",
      "source": [
        "score_final = model_final.evaluate(x_test, y_test, verbose=0)\n",
        "print(\"Test loss:\", score_final[0])\n",
        "print(\"Test accuracy:\", score_final[1])"
      ],
      "metadata": {
        "colab": {
          "base_uri": "https://localhost:8080/"
        },
        "id": "LIdeyDkI1WMv",
        "outputId": "66631557-fc05-40c9-9655-57148ecf2392"
      },
      "execution_count": 21,
      "outputs": [
        {
          "output_type": "stream",
          "name": "stdout",
          "text": [
            "Test loss: 0.02622392028570175\n",
            "Test accuracy: 0.9912999868392944\n"
          ]
        }
      ]
    }
  ],
  "metadata": {
    "colab": {
      "collapsed_sections": [],
      "name": "Trabalho_RN_Filipe.ipynb",
      "provenance": []
    },
    "kernelspec": {
      "display_name": "Python 3",
      "language": "python",
      "name": "python3"
    },
    "language_info": {
      "codemirror_mode": {
        "name": "ipython",
        "version": 3
      },
      "file_extension": ".py",
      "mimetype": "text/x-python",
      "name": "python",
      "nbconvert_exporter": "python",
      "pygments_lexer": "ipython3",
      "version": "3.7.0"
    }
  },
  "nbformat": 4,
  "nbformat_minor": 0
}